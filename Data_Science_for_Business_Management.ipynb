{
  "nbformat": 4,
  "nbformat_minor": 0,
  "metadata": {
    "colab": {
      "name": "Data_Science_for_Business_Management",
      "provenance": [],
      "collapsed_sections": [],
      "toc_visible": true,
      "include_colab_link": true
    },
    "kernelspec": {
      "name": "python3",
      "display_name": "Python 3"
    }
  },
  "cells": [
    {
      "cell_type": "markdown",
      "metadata": {
        "id": "view-in-github",
        "colab_type": "text"
      },
      "source": [
        "<a href=\"https://colab.research.google.com/github/scbd-laboratory/NDS/blob/master/Data_Science_for_Business_Management.ipynb\" target=\"_parent\"><img src=\"https://colab.research.google.com/assets/colab-badge.svg\" alt=\"Open In Colab\"/></a>"
      ]
    },
    {
      "cell_type": "markdown",
      "metadata": {
        "id": "tcNw7EhktbaU",
        "colab_type": "text"
      },
      "source": [
        "### Hands-on of Data Science for Business - 07 November 2019 - National Data Summit - Digital Business Ecosystem"
      ]
    },
    {
      "cell_type": "markdown",
      "metadata": {
        "id": "zBo8cUvjteRx",
        "colab_type": "text"
      },
      "source": [
        "## Classification"
      ]
    },
    {
      "cell_type": "code",
      "metadata": {
        "id": "l9EzmZgctYfR",
        "colab_type": "code",
        "colab": {}
      },
      "source": [
        "# Import Library\n",
        "import pandas as pd\n",
        "\n",
        "#Import the files to Google Colab\n",
        "url = 'https://raw.githubusercontent.com/dianrdn/rc-dataanalytic/master/dataset/churn_trasnsformed_new.csv'\n",
        "df_csv = pd.read_csv(url, sep=',')\n",
        "\n",
        "# Show 10 first Row\n",
        "df_csv.head()"
      ],
      "execution_count": 0,
      "outputs": []
    },
    {
      "cell_type": "code",
      "metadata": {
        "id": "jPyqUJV9tqlr",
        "colab_type": "code",
        "colab": {}
      },
      "source": [
        "# Remove \"Unnamed:O\" Coloumn\n",
        "df = df_csv.drop(\"Unnamed: 0\", axis=1)\n",
        "df.head()"
      ],
      "execution_count": 0,
      "outputs": []
    },
    {
      "cell_type": "code",
      "metadata": {
        "id": "CL34EZIYtwsT",
        "colab_type": "code",
        "colab": {}
      },
      "source": [
        "# Check the Data Infomation\n",
        "df.info()"
      ],
      "execution_count": 0,
      "outputs": []
    },
    {
      "cell_type": "code",
      "metadata": {
        "id": "lN-Bexjzty5m",
        "colab_type": "code",
        "colab": {}
      },
      "source": [
        "#Import MinMax Scaler\n",
        "from sklearn.preprocessing import MinMaxScaler\n",
        "\n",
        "# initialize min-max scaler\n",
        "mm_scaler = MinMaxScaler()\n",
        "column_names = df.columns.tolist()\n",
        "column_names.remove('Churn')\n",
        "\n",
        "# Transform all attributes\n",
        "df[column_names] = mm_scaler.fit_transform(df[column_names])\n",
        "df.sort_index(inplace=True)\n",
        "df.head()"
      ],
      "execution_count": 0,
      "outputs": []
    },
    {
      "cell_type": "code",
      "metadata": {
        "id": "0txPsShZt1Ob",
        "colab_type": "code",
        "colab": {}
      },
      "source": [
        "# Selecting the Feature, by remove the unused feature \n",
        "feature = ['Churn', 'TotalCharges']\n",
        "train_feature = df.drop(feature, axis=1)\n",
        "\n",
        "# Set The Target\n",
        "train_target = df[\"Churn\"]"
      ],
      "execution_count": 0,
      "outputs": []
    },
    {
      "cell_type": "code",
      "metadata": {
        "id": "NnGdWGY_t5pP",
        "colab_type": "code",
        "colab": {}
      },
      "source": [
        "# Show the Feature\n",
        "train_feature.head(5)"
      ],
      "execution_count": 0,
      "outputs": []
    },
    {
      "cell_type": "code",
      "metadata": {
        "id": "s640N3Kwt_x1",
        "colab_type": "code",
        "colab": {}
      },
      "source": [
        "# Split Data\n",
        "from sklearn.model_selection import train_test_split, cross_val_score\n",
        "X_train, X_test, y_train, y_test = train_test_split(train_feature ,train_target, shuffle = True, test_size=0.3, random_state=1)"
      ],
      "execution_count": 0,
      "outputs": []
    },
    {
      "cell_type": "code",
      "metadata": {
        "id": "_JaPJoapuAnT",
        "colab_type": "code",
        "colab": {}
      },
      "source": [
        "# Show the training data\n",
        "X_train.head()"
      ],
      "execution_count": 0,
      "outputs": []
    },
    {
      "cell_type": "markdown",
      "metadata": {
        "id": "ayWGd_WEui_w",
        "colab_type": "text"
      },
      "source": [
        "# Naive Bayes"
      ]
    },
    {
      "cell_type": "code",
      "metadata": {
        "id": "jCJejZV2ur1M",
        "colab_type": "code",
        "colab": {}
      },
      "source": [
        "from sklearn.naive_bayes import GaussianNB \n",
        "\n",
        "# Train Naive Bayes Model\n",
        "gnb = GaussianNB()\n",
        "gnb.fit(X_train, y_train)\n",
        "y_predgnb= gnb.predict(X_test)"
      ],
      "execution_count": 0,
      "outputs": []
    },
    {
      "cell_type": "code",
      "metadata": {
        "id": "qIWJ2brPvIEe",
        "colab_type": "code",
        "colab": {}
      },
      "source": [
        "# Show the Confussion Matrix\n",
        "from sklearn import metrics\n",
        "cnf_matrixgnb = metrics.confusion_matrix(y_test, y_predgnb)\n",
        "cnf_matrixgnb"
      ],
      "execution_count": 0,
      "outputs": []
    },
    {
      "cell_type": "code",
      "metadata": {
        "id": "2N5wdToivL7R",
        "colab_type": "code",
        "colab": {}
      },
      "source": [
        "# Show the Accuracy, Precision, Recall\n",
        "acc_gnb = metrics.accuracy_score(y_test, y_predgnb)\n",
        "prec_gnb = metrics.precision_score(y_test, y_predgnb)\n",
        "rec_gnb = metrics.recall_score(y_test, y_predgnb)\n",
        "f1_gnb = metrics.f1_score(y_test, y_predgnb)\n",
        "kappa_gnb = metrics.cohen_kappa_score(y_test, y_predgnb)\n",
        "\n",
        "print(\"Accuracy:\", acc_gnb)\n",
        "print(\"Precision:\", prec_gnb)\n",
        "print(\"Recall:\", rec_gnb)\n",
        "print(\"F1 Score:\", f1_gnb)\n",
        "print(\"Cohens Kappa Score:\", kappa_gnb)"
      ],
      "execution_count": 0,
      "outputs": []
    },
    {
      "cell_type": "code",
      "metadata": {
        "id": "c_EMkVgbvOuM",
        "colab_type": "code",
        "colab": {}
      },
      "source": [
        "# Cross-validation score\n",
        "cv_iterations = 10\n",
        "cv_score = cross_val_score(gnb, train_feature, train_target, cv=cv_iterations)\n",
        "print('Accuracy with cross-validation (split size = {}): {} (+/- {})'\n",
        "      .format(cv_iterations, round(cv_score.mean(),2), round(cv_score.std() * 2,2)))"
      ],
      "execution_count": 0,
      "outputs": []
    },
    {
      "cell_type": "code",
      "metadata": {
        "id": "gk-KPbp3vSit",
        "colab_type": "code",
        "colab": {}
      },
      "source": [
        "# ROC Curve\n",
        "import matplotlib.pyplot as plt\n",
        "y_pred_probagnb = gnb.predict_proba(X_test)[::,1]\n",
        "fprgnb, tprgnb, _ = metrics.roc_curve(y_test,  y_pred_probagnb)\n",
        "aucgnb = metrics.roc_auc_score(y_test, y_pred_probagnb)\n",
        "plt.plot(fprgnb,tprgnb,label=\"Naive Bayes, auc=\"+str(aucgnb))\n",
        "plt.legend(loc=4)\n",
        "plt.show()"
      ],
      "execution_count": 0,
      "outputs": []
    },
    {
      "cell_type": "markdown",
      "metadata": {
        "id": "CQFCiMWkGElN",
        "colab_type": "text"
      },
      "source": [
        "## Assosiasi"
      ]
    },
    {
      "cell_type": "code",
      "metadata": {
        "id": "edr8H_V-GQ_f",
        "colab_type": "code",
        "colab": {}
      },
      "source": [
        "# Import Library\n",
        "import pandas as pd\n",
        "import numpy as np\n",
        "\n",
        "import seaborn as sns\n",
        "\n",
        "from mlxtend.frequent_patterns import apriori\n",
        "from mlxtend.frequent_patterns import association_rules"
      ],
      "execution_count": 0,
      "outputs": []
    },
    {
      "cell_type": "code",
      "metadata": {
        "id": "3XXW_O0eGVW5",
        "colab_type": "code",
        "colab": {}
      },
      "source": [
        "# Import dataset\n",
        "retail_df = pd.read_excel(\"https://github.com/dianrdn/rc-dataanalytic/blob/master/dataset/Online_Retail.xlsx?raw=true\")\n",
        "retail_df.head()"
      ],
      "execution_count": 0,
      "outputs": []
    },
    {
      "cell_type": "code",
      "metadata": {
        "id": "cIdQfp5RGX1n",
        "colab_type": "code",
        "colab": {}
      },
      "source": [
        "# Create Encode Function\n",
        "def encode_units(x):\n",
        "    if x <= 0:\n",
        "        return 0\n",
        "    if x >= 1:\n",
        "        return 1\n",
        "\n",
        "def create_basket(country_filter):\n",
        "    basket = (retail_df[retail_df['Country'] == country_filter]\n",
        "          .groupby(['InvoiceNo', 'Description'])['Quantity']\n",
        "          .sum().unstack().reset_index().fillna(0)\n",
        "          .set_index('InvoiceNo'))\n",
        "    return basket\n",
        " "
      ],
      "execution_count": 0,
      "outputs": []
    },
    {
      "cell_type": "code",
      "metadata": {
        "id": "tOa38tdvGX7V",
        "colab_type": "code",
        "colab": {}
      },
      "source": [
        "country_filter = \"France\"\n",
        "basket_french = create_basket(\"France\")\n",
        "basket_sets = basket_french.applymap(encode_units)\n",
        "basket_sets.drop('POSTAGE', inplace=True, axis=1)"
      ],
      "execution_count": 0,
      "outputs": []
    },
    {
      "cell_type": "code",
      "metadata": {
        "id": "Ozcdj1mIGgPk",
        "colab_type": "code",
        "colab": {}
      },
      "source": [
        " basket_sets.head()"
      ],
      "execution_count": 0,
      "outputs": []
    },
    {
      "cell_type": "code",
      "metadata": {
        "id": "fnHmnR9xGi7z",
        "colab_type": "code",
        "colab": {}
      },
      "source": [
        "frequent_itemsets = apriori(basket_sets, min_support=0.05, use_colnames=True)\n",
        "frequent_itemsets"
      ],
      "execution_count": 0,
      "outputs": []
    },
    {
      "cell_type": "code",
      "metadata": {
        "id": "ke3bUnyWGmlW",
        "colab_type": "code",
        "colab": {}
      },
      "source": [
        "# Generate Rules\n",
        "rules = association_rules(frequent_itemsets, metric=\"lift\", min_threshold=1.2)\n",
        "rules.head()"
      ],
      "execution_count": 0,
      "outputs": []
    }
  ]
}